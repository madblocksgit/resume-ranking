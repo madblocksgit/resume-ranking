{
 "cells": [
  {
   "cell_type": "markdown",
   "metadata": {},
   "source": [
    "# Resume Ranking using NLP and Machine Learning\n",
    "\n",
    "# Batch - 9B\n",
    "\n",
    "# Usharama College of Engineering and Technology"
   ]
  },
  {
   "cell_type": "markdown",
   "metadata": {},
   "source": [
    "**Workflow**\n",
    "1. Creating word embedding using Genism , Word2Vec\n",
    "2. Preprocessing \n",
    "3. Removing common words that are not required\n",
    "4. Creating phrases of words that frequently occur togther (bigrams)\n",
    "5. Building word2vec model\n",
    "6. Extracting resumes (using PyPDF) and converting to string\n",
    "7. Building candidate profile using model.most_similar(skills), where skills is an array of required skills\n",
    "8. Creating a matcher using Spacy to match the wods in resume to most_similar(skills)\n",
    "9. Printing and visualizing the candidate profile"
   ]
  },
  {
   "cell_type": "code",
   "execution_count": 1,
   "metadata": {},
   "outputs": [
    {
     "name": "stdout",
     "output_type": "stream",
     "text": [
      "Requirement already satisfied: gensim==3.4.0 in c:\\users\\maddy\\anaconda3\\lib\\site-packages (3.4.0)\n",
      "Requirement already satisfied: scipy>=0.18.1 in c:\\users\\maddy\\anaconda3\\lib\\site-packages (from gensim==3.4.0) (1.4.1)\n",
      "Requirement already satisfied: numpy>=1.11.3 in c:\\users\\maddy\\anaconda3\\lib\\site-packages (from gensim==3.4.0) (1.18.2)\n",
      "Requirement already satisfied: smart-open>=1.2.1 in c:\\users\\maddy\\anaconda3\\lib\\site-packages (from gensim==3.4.0) (3.0.0)\n",
      "Requirement already satisfied: six>=1.5.0 in c:\\users\\maddy\\anaconda3\\lib\\site-packages (from gensim==3.4.0) (1.12.0)\n",
      "Requirement already satisfied: requests in c:\\users\\maddy\\anaconda3\\lib\\site-packages (from smart-open>=1.2.1->gensim==3.4.0) (2.22.0)\n",
      "Requirement already satisfied: chardet<3.1.0,>=3.0.2 in c:\\users\\maddy\\anaconda3\\lib\\site-packages (from requests->smart-open>=1.2.1->gensim==3.4.0) (3.0.4)\n",
      "Requirement already satisfied: urllib3!=1.25.0,!=1.25.1,<1.26,>=1.21.1 in c:\\users\\maddy\\anaconda3\\lib\\site-packages (from requests->smart-open>=1.2.1->gensim==3.4.0) (1.24.2)\n",
      "Requirement already satisfied: certifi>=2017.4.17 in c:\\users\\maddy\\anaconda3\\lib\\site-packages (from requests->smart-open>=1.2.1->gensim==3.4.0) (2019.9.11)\n",
      "Requirement already satisfied: idna<2.9,>=2.5 in c:\\users\\maddy\\anaconda3\\lib\\site-packages (from requests->smart-open>=1.2.1->gensim==3.4.0) (2.8)\n",
      "Note: you may need to restart the kernel to use updated packages.\n"
     ]
    },
    {
     "name": "stderr",
     "output_type": "stream",
     "text": [
      "WARNING: You are using pip version 20.1.1; however, version 21.1.2 is available.\n",
      "You should consider upgrading via the 'C:\\Users\\maddy\\Anaconda3\\python.exe -m pip install --upgrade pip' command.\n"
     ]
    }
   ],
   "source": [
    "pip install gensim==3.4.0"
   ]
  },
  {
   "cell_type": "code",
   "execution_count": 2,
   "metadata": {},
   "outputs": [
    {
     "name": "stdout",
     "output_type": "stream",
     "text": [
      "Requirement already satisfied: spacy==2.3.5 in c:\\users\\maddy\\appdata\\roaming\\python\\python37\\site-packages (2.3.5)\n",
      "Requirement already satisfied: cymem<2.1.0,>=2.0.2 in c:\\users\\maddy\\anaconda3\\lib\\site-packages (from spacy==2.3.5) (2.0.3)\n",
      "Requirement already satisfied: blis<0.8.0,>=0.4.0 in c:\\users\\maddy\\appdata\\roaming\\python\\python37\\site-packages (from spacy==2.3.5) (0.7.4)\n",
      "Requirement already satisfied: preshed<3.1.0,>=3.0.2 in c:\\users\\maddy\\appdata\\roaming\\python\\python37\\site-packages (from spacy==2.3.5) (3.0.5)\n",
      "Requirement already satisfied: catalogue<1.1.0,>=0.0.7 in c:\\users\\maddy\\appdata\\roaming\\python\\python37\\site-packages (from spacy==2.3.5) (1.0.0)\n",
      "Requirement already satisfied: srsly<1.1.0,>=1.0.2 in c:\\users\\maddy\\appdata\\roaming\\python\\python37\\site-packages (from spacy==2.3.5) (1.0.5)\n",
      "Requirement already satisfied: numpy>=1.15.0 in c:\\users\\maddy\\anaconda3\\lib\\site-packages (from spacy==2.3.5) (1.18.2)\n",
      "Requirement already satisfied: setuptools in c:\\users\\maddy\\anaconda3\\lib\\site-packages (from spacy==2.3.5) (41.4.0)\n",
      "Requirement already satisfied: thinc<7.5.0,>=7.4.1 in c:\\users\\maddy\\appdata\\roaming\\python\\python37\\site-packages (from spacy==2.3.5) (7.4.5)\n",
      "Requirement already satisfied: tqdm<5.0.0,>=4.38.0 in c:\\users\\maddy\\anaconda3\\lib\\site-packages (from spacy==2.3.5) (4.61.1)\n",
      "Requirement already satisfied: plac<1.2.0,>=0.9.6 in c:\\users\\maddy\\anaconda3\\lib\\site-packages (from spacy==2.3.5) (0.9.6)\n",
      "Requirement already satisfied: requests<3.0.0,>=2.13.0 in c:\\users\\maddy\\anaconda3\\lib\\site-packages (from spacy==2.3.5) (2.22.0)\n",
      "Requirement already satisfied: wasabi<1.1.0,>=0.4.0 in c:\\users\\maddy\\appdata\\roaming\\python\\python37\\site-packages (from spacy==2.3.5) (0.8.2)\n",
      "Requirement already satisfied: murmurhash<1.1.0,>=0.28.0 in c:\\users\\maddy\\anaconda3\\lib\\site-packages (from spacy==2.3.5) (1.0.2)\n",
      "Requirement already satisfied: importlib-metadata>=0.20; python_version < \"3.8\" in c:\\users\\maddy\\anaconda3\\lib\\site-packages (from catalogue<1.1.0,>=0.0.7->spacy==2.3.5) (0.23)\n",
      "Requirement already satisfied: idna<2.9,>=2.5 in c:\\users\\maddy\\anaconda3\\lib\\site-packages (from requests<3.0.0,>=2.13.0->spacy==2.3.5) (2.8)\n",
      "Requirement already satisfied: certifi>=2017.4.17 in c:\\users\\maddy\\anaconda3\\lib\\site-packages (from requests<3.0.0,>=2.13.0->spacy==2.3.5) (2019.9.11)\n",
      "Requirement already satisfied: urllib3!=1.25.0,!=1.25.1,<1.26,>=1.21.1 in c:\\users\\maddy\\anaconda3\\lib\\site-packages (from requests<3.0.0,>=2.13.0->spacy==2.3.5) (1.24.2)\n",
      "Requirement already satisfied: chardet<3.1.0,>=3.0.2 in c:\\users\\maddy\\anaconda3\\lib\\site-packages (from requests<3.0.0,>=2.13.0->spacy==2.3.5) (3.0.4)\n",
      "Requirement already satisfied: zipp>=0.5 in c:\\users\\maddy\\anaconda3\\lib\\site-packages (from importlib-metadata>=0.20; python_version < \"3.8\"->catalogue<1.1.0,>=0.0.7->spacy==2.3.5) (0.6.0)\n",
      "Requirement already satisfied: more-itertools in c:\\users\\maddy\\anaconda3\\lib\\site-packages (from zipp>=0.5->importlib-metadata>=0.20; python_version < \"3.8\"->catalogue<1.1.0,>=0.0.7->spacy==2.3.5) (7.2.0)\n",
      "Note: you may need to restart the kernel to use updated packages.\n"
     ]
    },
    {
     "name": "stderr",
     "output_type": "stream",
     "text": [
      "WARNING: You are using pip version 20.1.1; however, version 21.1.2 is available.\n",
      "You should consider upgrading via the 'C:\\Users\\maddy\\Anaconda3\\python.exe -m pip install --upgrade pip' command.\n"
     ]
    }
   ],
   "source": [
    "pip install spacy==2.3.5 --user"
   ]
  },
  {
   "cell_type": "code",
   "execution_count": 3,
   "metadata": {},
   "outputs": [
    {
     "name": "stdout",
     "output_type": "stream",
     "text": [
      "Collecting https://github.com/explosion/spacy-models/releases/download/en_core_web_sm-2.3.1/en_core_web_sm-2.3.1.tar.gz\n",
      "  Downloading https://github.com/explosion/spacy-models/releases/download/en_core_web_sm-2.3.1/en_core_web_sm-2.3.1.tar.gz (12.0 MB)\n",
      "Requirement already satisfied (use --upgrade to upgrade): en-core-web-sm==2.3.1 from https://github.com/explosion/spacy-models/releases/download/en_core_web_sm-2.3.1/en_core_web_sm-2.3.1.tar.gz in c:\\users\\maddy\\anaconda3\\lib\\site-packages\n",
      "Requirement already satisfied: spacy<2.4.0,>=2.3.0 in c:\\users\\maddy\\appdata\\roaming\\python\\python37\\site-packages (from en-core-web-sm==2.3.1) (2.3.5)\n",
      "Requirement already satisfied: murmurhash<1.1.0,>=0.28.0 in c:\\users\\maddy\\anaconda3\\lib\\site-packages (from spacy<2.4.0,>=2.3.0->en-core-web-sm==2.3.1) (1.0.2)\n",
      "Requirement already satisfied: preshed<3.1.0,>=3.0.2 in c:\\users\\maddy\\appdata\\roaming\\python\\python37\\site-packages (from spacy<2.4.0,>=2.3.0->en-core-web-sm==2.3.1) (3.0.5)\n",
      "Requirement already satisfied: srsly<1.1.0,>=1.0.2 in c:\\users\\maddy\\appdata\\roaming\\python\\python37\\site-packages (from spacy<2.4.0,>=2.3.0->en-core-web-sm==2.3.1) (1.0.5)\n",
      "Requirement already satisfied: plac<1.2.0,>=0.9.6 in c:\\users\\maddy\\anaconda3\\lib\\site-packages (from spacy<2.4.0,>=2.3.0->en-core-web-sm==2.3.1) (0.9.6)\n",
      "Requirement already satisfied: thinc<7.5.0,>=7.4.1 in c:\\users\\maddy\\appdata\\roaming\\python\\python37\\site-packages (from spacy<2.4.0,>=2.3.0->en-core-web-sm==2.3.1) (7.4.5)\n",
      "Requirement already satisfied: numpy>=1.15.0 in c:\\users\\maddy\\anaconda3\\lib\\site-packages (from spacy<2.4.0,>=2.3.0->en-core-web-sm==2.3.1) (1.18.2)\n",
      "Requirement already satisfied: catalogue<1.1.0,>=0.0.7 in c:\\users\\maddy\\appdata\\roaming\\python\\python37\\site-packages (from spacy<2.4.0,>=2.3.0->en-core-web-sm==2.3.1) (1.0.0)\n",
      "Requirement already satisfied: wasabi<1.1.0,>=0.4.0 in c:\\users\\maddy\\appdata\\roaming\\python\\python37\\site-packages (from spacy<2.4.0,>=2.3.0->en-core-web-sm==2.3.1) (0.8.2)\n",
      "Requirement already satisfied: setuptools in c:\\users\\maddy\\anaconda3\\lib\\site-packages (from spacy<2.4.0,>=2.3.0->en-core-web-sm==2.3.1) (41.4.0)\n",
      "Requirement already satisfied: requests<3.0.0,>=2.13.0 in c:\\users\\maddy\\anaconda3\\lib\\site-packages (from spacy<2.4.0,>=2.3.0->en-core-web-sm==2.3.1) (2.22.0)\n",
      "Requirement already satisfied: cymem<2.1.0,>=2.0.2 in c:\\users\\maddy\\anaconda3\\lib\\site-packages (from spacy<2.4.0,>=2.3.0->en-core-web-sm==2.3.1) (2.0.3)\n",
      "Requirement already satisfied: blis<0.8.0,>=0.4.0 in c:\\users\\maddy\\appdata\\roaming\\python\\python37\\site-packages (from spacy<2.4.0,>=2.3.0->en-core-web-sm==2.3.1) (0.7.4)\n",
      "Requirement already satisfied: tqdm<5.0.0,>=4.38.0 in c:\\users\\maddy\\anaconda3\\lib\\site-packages (from spacy<2.4.0,>=2.3.0->en-core-web-sm==2.3.1) (4.61.1)\n",
      "Requirement already satisfied: importlib-metadata>=0.20; python_version < \"3.8\" in c:\\users\\maddy\\anaconda3\\lib\\site-packages (from catalogue<1.1.0,>=0.0.7->spacy<2.4.0,>=2.3.0->en-core-web-sm==2.3.1) (0.23)\n",
      "Requirement already satisfied: chardet<3.1.0,>=3.0.2 in c:\\users\\maddy\\anaconda3\\lib\\site-packages (from requests<3.0.0,>=2.13.0->spacy<2.4.0,>=2.3.0->en-core-web-sm==2.3.1) (3.0.4)\n",
      "Requirement already satisfied: urllib3!=1.25.0,!=1.25.1,<1.26,>=1.21.1 in c:\\users\\maddy\\anaconda3\\lib\\site-packages (from requests<3.0.0,>=2.13.0->spacy<2.4.0,>=2.3.0->en-core-web-sm==2.3.1) (1.24.2)\n",
      "Requirement already satisfied: certifi>=2017.4.17 in c:\\users\\maddy\\anaconda3\\lib\\site-packages (from requests<3.0.0,>=2.13.0->spacy<2.4.0,>=2.3.0->en-core-web-sm==2.3.1) (2019.9.11)\n",
      "Requirement already satisfied: idna<2.9,>=2.5 in c:\\users\\maddy\\anaconda3\\lib\\site-packages (from requests<3.0.0,>=2.13.0->spacy<2.4.0,>=2.3.0->en-core-web-sm==2.3.1) (2.8)\n",
      "Requirement already satisfied: zipp>=0.5 in c:\\users\\maddy\\anaconda3\\lib\\site-packages (from importlib-metadata>=0.20; python_version < \"3.8\"->catalogue<1.1.0,>=0.0.7->spacy<2.4.0,>=2.3.0->en-core-web-sm==2.3.1) (0.6.0)\n",
      "Requirement already satisfied: more-itertools in c:\\users\\maddy\\anaconda3\\lib\\site-packages (from zipp>=0.5->importlib-metadata>=0.20; python_version < \"3.8\"->catalogue<1.1.0,>=0.0.7->spacy<2.4.0,>=2.3.0->en-core-web-sm==2.3.1) (7.2.0)\n",
      "Building wheels for collected packages: en-core-web-sm\n",
      "  Building wheel for en-core-web-sm (setup.py): started\n",
      "  Building wheel for en-core-web-sm (setup.py): finished with status 'done'\n",
      "  Created wheel for en-core-web-sm: filename=en_core_web_sm-2.3.1-py3-none-any.whl size=12047113 sha256=961d434443b26e145e35aa952e741a917cc947e7b480329a95e7e4ff6b736404\n",
      "  Stored in directory: c:\\users\\maddy\\appdata\\local\\pip\\cache\\wheels\\b7\\0d\\f0\\7ecae8427c515065d75410989e15e5785dd3975fe06e795cd9\n",
      "Successfully built en-core-web-sm\n",
      "Note: you may need to restart the kernel to use updated packages.\n"
     ]
    },
    {
     "name": "stderr",
     "output_type": "stream",
     "text": [
      "WARNING: You are using pip version 20.1.1; however, version 21.1.2 is available.\n",
      "You should consider upgrading via the 'C:\\Users\\maddy\\Anaconda3\\python.exe -m pip install --upgrade pip' command.\n"
     ]
    }
   ],
   "source": [
    "pip install https://github.com/explosion/spacy-models/releases/download/en_core_web_sm-2.3.1/en_core_web_sm-2.3.1.tar.gz\n"
   ]
  },
  {
   "cell_type": "markdown",
   "metadata": {},
   "source": [
    "### Creating word embedding "
   ]
  },
  {
   "cell_type": "code",
   "execution_count": 4,
   "metadata": {},
   "outputs": [
    {
     "name": "stderr",
     "output_type": "stream",
     "text": [
      "C:\\Users\\maddy\\Anaconda3\\lib\\site-packages\\gensim\\utils.py:1197: UserWarning: detected Windows; aliasing chunkize to chunkize_serial\n",
      "  warnings.warn(\"detected Windows; aliasing chunkize to chunkize_serial\")\n"
     ]
    }
   ],
   "source": [
    "from gensim.models import Word2Vec\n",
    "import string\n",
    "import re\n",
    "from nltk.corpus import stopwords\n",
    "with open(r'C:\\Users\\maddy\\Documents\\ml-projects-urcet\\resume-ranking\\Resume-Scoring-using-NLP\\skills.txt',encoding=\"utf8\") as f:\n",
    "    content = f.readlines()\n",
    "# you may also want to remove whitespace characters like `\\n` at the end of each line\n",
    "content = [x.strip() for x in content]"
   ]
  },
  {
   "cell_type": "code",
   "execution_count": 5,
   "metadata": {},
   "outputs": [
    {
     "data": {
      "text/plain": [
       "'Data science is a \"concept to unify statistics, data analysis, machine learning and their related methods\" in order to \"understand and analyze actual phenomena\" with data. It employs techniques and theories drawn from many fields within the context of mathematics, statistics, information science, and computer science. Turing award winner Jim Gray imagined data science as a \"fourth paradigm\" of science (empirical, theoretical, computational and now data-driven) and asserted that \"everything about science is changing because of the impact of information technology\" and the data deluge.'"
      ]
     },
     "execution_count": 5,
     "metadata": {},
     "output_type": "execute_result"
    }
   ],
   "source": [
    "content[1]"
   ]
  },
  {
   "cell_type": "code",
   "execution_count": 6,
   "metadata": {},
   "outputs": [],
   "source": [
    "from nltk.tokenize import word_tokenize\n",
    "import gensim\n",
    "from gensim.models.phrases import Phraser, Phrases"
   ]
  },
  {
   "cell_type": "markdown",
   "metadata": {},
   "source": [
    "**Preprocessing**"
   ]
  },
  {
   "cell_type": "code",
   "execution_count": 7,
   "metadata": {},
   "outputs": [],
   "source": [
    "x=[]\n",
    "for line in content:\n",
    "    tokens=word_tokenize(line)\n",
    "    tok=[w.lower() for w in tokens]\n",
    "    table=str.maketrans('','',string.punctuation)\n",
    "    strpp=[w.translate(table) for w in tok]\n",
    "    words=[word for word in strpp if word.isalpha()]\n",
    "    stop_words=set(stopwords.words('english'))\n",
    "    words=[w for w in words if not w in stop_words]\n",
    "    x.append(words)"
   ]
  },
  {
   "cell_type": "code",
   "execution_count": 8,
   "metadata": {},
   "outputs": [],
   "source": [
    "texts=x"
   ]
  },
  {
   "cell_type": "code",
   "execution_count": 9,
   "metadata": {},
   "outputs": [
    {
     "name": "stdout",
     "output_type": "stream",
     "text": [
      "['william', 'cleveland', 'introduced', 'data', 'science', 'independent', 'discipline', 'extending', 'field', 'statistics', 'incorporate', 'advances', 'computing', 'data', 'article', 'data', 'science', 'action', 'plan', 'expanding', 'technical', 'areas', 'field', 'statistics', 'published', 'volume', 'april', 'edition', 'international', 'statistical', 'review', 'revue', 'internationale', 'de', 'statistique', 'report', 'cleveland', 'establishes', 'six', 'technical', 'areas', 'believed', 'encompass', 'field', 'data', 'science', 'multidisciplinary', 'investigations', 'models', 'methods', 'data', 'computing', 'data', 'pedagogy', 'tool', 'evaluation', 'theory']\n"
     ]
    }
   ],
   "source": [
    "print(texts[6])"
   ]
  },
  {
   "cell_type": "markdown",
   "metadata": {},
   "source": [
    "**Removing commonly occuring words that are not useful**"
   ]
  },
  {
   "cell_type": "code",
   "execution_count": 10,
   "metadata": {},
   "outputs": [
    {
     "name": "stdout",
     "output_type": "stream",
     "text": [
      "['william', 'cleveland', 'introduced', 'data', 'science', 'independent', 'discipline', 'extending', 'field', 'statistics', 'incorporate', 'advances', 'computing', 'data', 'article', 'data', 'science', 'action', 'plan', 'expanding', 'technical', 'areas', 'field', 'statistics', 'published', 'volume', 'april', 'edition', 'international', 'statistical', 'review', 'revue', 'internationale', 'de', 'statistique', 'report', 'cleveland', 'establishes', 'six', 'technical', 'areas', 'believed', 'encompass', 'field', 'data', 'science', 'multidisciplinary', 'investigations', 'models', 'methods', 'data', 'computing', 'data', 'pedagogy', 'tool', 'evaluation', 'theory']\n"
     ]
    }
   ],
   "source": [
    "with open('common.txt') as f:\n",
    "    content2 = f.read()\n",
    "ntexts=[]\n",
    "l=len(texts)\n",
    "for j in range(l):\n",
    "    s=texts[j]\n",
    "    res = [i for i in s if i not in content2]\n",
    "    ntexts.append(res)\n",
    "print(texts[6])\n",
    "\n",
    "    "
   ]
  },
  {
   "cell_type": "code",
   "execution_count": 11,
   "metadata": {},
   "outputs": [
    {
     "name": "stdout",
     "output_type": "stream",
     "text": [
      "['william', 'cleveland', 'introduced', 'data', 'science', 'independent', 'discipline', 'extending', 'field', 'statistics', 'incorporate', 'advances', 'computing', 'data', 'article', 'data', 'science', 'action', 'plan', 'expanding', 'technical', 'areas', 'field', 'statistics', 'published', 'volume', 'april', 'edition', 'international', 'statistical', 'review', 'revue', 'internationale', 'de', 'statistique', 'report', 'cleveland', 'establishes', 'six', 'technical', 'areas', 'believed', 'encompass', 'field', 'data', 'science', 'multidisciplinary', 'investigations', 'models', 'methods', 'data', 'computing', 'data', 'pedagogy', 'tool', 'evaluation', 'theory']\n"
     ]
    }
   ],
   "source": [
    "print(ntexts[6])"
   ]
  },
  {
   "cell_type": "code",
   "execution_count": 12,
   "metadata": {},
   "outputs": [
    {
     "name": "stdout",
     "output_type": "stream",
     "text": [
      "316\n"
     ]
    }
   ],
   "source": [
    "print(len(ntexts))\n",
    "texts=ntexts"
   ]
  },
  {
   "cell_type": "code",
   "execution_count": 13,
   "metadata": {},
   "outputs": [],
   "source": [
    "content=texts"
   ]
  },
  {
   "cell_type": "markdown",
   "metadata": {},
   "source": [
    "**Creating bigrams**"
   ]
  },
  {
   "cell_type": "code",
   "execution_count": 14,
   "metadata": {},
   "outputs": [
    {
     "name": "stdout",
     "output_type": "stream",
     "text": [
      "1240\n"
     ]
    }
   ],
   "source": [
    "common_terms = [\"of\", \"with\", \"without\", \"and\", \"or\", \"the\", \"a\"]\n",
    "x=ntexts\n",
    "# Create the relevant phrases from the list of sentences:\n",
    "phrases = Phrases(x, common_terms=common_terms)\n",
    "# The Phraser object is used from now on to transform sentences\n",
    "bigram = Phraser(phrases)\n",
    "# Applying the Phraser to transform our sentences\n",
    "all_sentences = list(bigram[x])\n",
    "model=gensim.models.Word2Vec(all_sentences,size=5000,min_count=2,workers=4,window=4)\n",
    "model.save(\"final.model\")\n",
    "wrds=list(model.wv.vocab)\n",
    "print(len(wrds))"
   ]
  },
  {
   "cell_type": "markdown",
   "metadata": {},
   "source": [
    "**Testing**"
   ]
  },
  {
   "cell_type": "code",
   "execution_count": 15,
   "metadata": {},
   "outputs": [],
   "source": [
    "z=model.wv.most_similar(\"machine_learning\")"
   ]
  },
  {
   "cell_type": "code",
   "execution_count": 16,
   "metadata": {},
   "outputs": [
    {
     "name": "stdout",
     "output_type": "stream",
     "text": [
      "[('software', 0.12770713865756989), ('data_science', 0.11758071929216385), ('data', 0.11278633028268814), ('deep', 0.10879992693662643), ('learning', 0.10805635899305344), ('many', 0.10781163722276688), ('may', 0.1067565381526947), ('using', 0.10606149584054947), ('deep_neural', 0.10451511293649673), ('deep_learning', 0.10236132144927979)]\n"
     ]
    }
   ],
   "source": [
    "print(z)"
   ]
  },
  {
   "cell_type": "markdown",
   "metadata": {},
   "source": [
    "### Resume Parsing"
   ]
  },
  {
   "cell_type": "code",
   "execution_count": 17,
   "metadata": {},
   "outputs": [],
   "source": [
    "import PyPDF2\n",
    "import os\n",
    "import collections\n",
    "from os import listdir\n",
    "from os.path import isfile, join\n",
    "from io import StringIO\n",
    "import pandas as pd\n",
    "from collections import Counter\n",
    "import en_core_web_sm\n",
    "nlp = en_core_web_sm.load()\n",
    "from spacy.matcher import PhraseMatcher"
   ]
  },
  {
   "cell_type": "markdown",
   "metadata": {},
   "source": [
    "**Reading Resumes from folder**"
   ]
  },
  {
   "cell_type": "code",
   "execution_count": 18,
   "metadata": {},
   "outputs": [],
   "source": [
    "mypath=r'C:\\Users\\maddy\\Documents\\ml-projects-urcet\\resume-ranking\\Resume-Scoring-using-NLP\\Resumes'\n",
    "#Path for the files\n",
    "onlyfiles = [os.path.join(mypath, f) for f in os.listdir(mypath) if os.path.isfile(os.path.join(mypath, f))]\n"
   ]
  },
  {
   "cell_type": "markdown",
   "metadata": {},
   "source": [
    "**Function to words from resume**"
   ]
  },
  {
   "cell_type": "code",
   "execution_count": 19,
   "metadata": {},
   "outputs": [],
   "source": [
    "import collections\n",
    "'''def pdfextract(file):\n",
    "    pdf_file = open(file, 'rb')\n",
    "    read_pdf = PyPDF2.PdfFileReader(pdf_file)\n",
    "    number_of_pages = read_pdf.getNumPages()\n",
    "    c = collections.Counter(range(number_of_pages))\n",
    "    for i in c:\n",
    "        #page\n",
    "        page = read_pdf.getPage(i)\n",
    "        page_content = page.extractText()\n",
    "    return (page_content.encode('utf-8'))'''\n",
    "\n",
    "def pdfextract(file):\n",
    "    dummy=''\n",
    "    pdffile=open(file,'rb')\n",
    "    pdfReader=PyPDF2.PdfFileReader(pdffile)\n",
    "    count=(pdfReader.numPages)\n",
    "    for i in range(count):\n",
    "        pageObj=pdfReader.getPage(i)\n",
    "        dummy+=(pageObj.extractText())\n",
    "    return(dummy)"
   ]
  },
  {
   "cell_type": "code",
   "execution_count": 20,
   "metadata": {},
   "outputs": [],
   "source": [
    "sim_words=[k[0] for k in model.wv.most_similar(\"machine_learning\")]"
   ]
  },
  {
   "cell_type": "code",
   "execution_count": 21,
   "metadata": {},
   "outputs": [],
   "source": [
    "def create_bigram(words):\n",
    "    common_terms = [\"of\", \"with\", \"without\", \"and\", \"or\", \"the\", \"a\"]\n",
    "    x=words.split()\n",
    "# Create the relevant phrases from the list of sentences:\n",
    "    phrases = Phrases(x, common_terms=common_terms)\n",
    "# The Phraser object is used from now on to transform sentences\n",
    "    bigram = Phraser(phrases)\n",
    "# Applying the Phraser to transform our sentences is simply\n",
    "    all_sentences = list(bigram[x])\n",
    "    \n",
    "    "
   ]
  },
  {
   "cell_type": "markdown",
   "metadata": {},
   "source": [
    "**Function to build candidate profile**"
   ]
  },
  {
   "cell_type": "code",
   "execution_count": 22,
   "metadata": {},
   "outputs": [],
   "source": [
    "def create_profile(file):\n",
    "    model=Word2Vec.load(\"final.model\")\n",
    "    text = str(pdfextract(file))\n",
    "    text = text.replace(\"\\\\n\", \"\")\n",
    "    text = text.lower()\n",
    "    #print(text)\n",
    "    #text=create_bigram(text)\n",
    "    #print(text)\n",
    "    #below is the csv where we have all the keywords, you can customize your own\n",
    "    #keyword_dictionary = pd.read_csv(r'C:\\Users\\dell\\Desktop\\New folder\\ML_CS\\NLP\\technical_skills.csv')\n",
    "    stats = [nlp(text[0]) for text in model.wv.most_similar(\"statistics\")]\n",
    "    NLP = [nlp(text[0]) for text in model.wv.most_similar(\"language\")]\n",
    "    ML = [nlp(text[0]) for text in model.wv.most_similar(\"machine_learning\")]\n",
    "    DL = [nlp(text[0]) for text in model.wv.most_similar(\"deep\")]\n",
    "    #R = [nlp(text) for text in keyword_dictionary['R Language'].dropna(axis = 0)]\n",
    "    python = [nlp(text[0]) for text in model.wv.most_similar(\"python\")]\n",
    "    Data_Engineering = [nlp(text[0]) for text in model.wv.most_similar(\"data\")]\n",
    "    print(\"*******************************************\")\n",
    "    #print(stats_words,NLP_words)\n",
    "    matcher = PhraseMatcher(nlp.vocab)\n",
    "    matcher.add('Stats', None, *stats)\n",
    "    matcher.add('NLP', None, *NLP)\n",
    "    matcher.add('ML', None, *ML)\n",
    "    matcher.add('DL', None, *DL)\n",
    "    matcher.add('Python', None, *python)\n",
    "    matcher.add('DE', None, *Data_Engineering)\n",
    "    doc = nlp(text)\n",
    "    \n",
    "    d = []  \n",
    "    matches = matcher(doc)\n",
    "    for match_id, start, end in matches:\n",
    "        rule_id = nlp.vocab.strings[match_id]  # get the unicode I\n",
    "        span = doc[start : end]               # get the matched slice of the doc\n",
    "        d.append((rule_id, span.text))      \n",
    "    keywords = \"\\n\".join(f'{i[0]} {i[1]} ({j})' for i,j in Counter(d).items())\n",
    "    print(\"KEYWORDS\")\n",
    "    print(keywords)\n",
    "    \n",
    "    ## convertimg string of keywords to dataframe\n",
    "    df = pd.read_csv(StringIO(keywords),names = ['Keywords_List'])\n",
    "    df1 = pd.DataFrame(df.Keywords_List.str.split(' ',1).tolist(),columns = ['Subject','Keyword'])\n",
    "    df2 = pd.DataFrame(df1.Keyword.str.split('(',1).tolist(),columns = ['Keyword', 'Count'])\n",
    "    df3 = pd.concat([df1['Subject'],df2['Keyword'], df2['Count']], axis =1) \n",
    "    df3['Count'] = df3['Count'].apply(lambda x: x.rstrip(\")\"))\n",
    "    print(\"********************DF********************\")\n",
    "    print(df)\n",
    "    \n",
    "    base = os.path.basename(file)\n",
    "    filename = os.path.splitext(base)[0]\n",
    "    \n",
    "       \n",
    "    name = filename.split('_')\n",
    "    print(name)\n",
    "    name2 = name[0]\n",
    "    name2 = name2.lower()\n",
    "    ## converting str to dataframe\n",
    "    name3 = pd.read_csv(StringIO(name2),names = ['Candidate Name'])\n",
    "    \n",
    "    dataf = pd.concat([name3['Candidate Name'], df3['Subject'], df3['Keyword'], df3['Count']], axis = 1)\n",
    "    dataf['Candidate Name'].fillna(dataf['Candidate Name'].iloc[0], inplace = True)\n",
    "    print(\"******************DATAF**************\")\n",
    "    print(dataf)\n",
    "\n",
    "    return(dataf)"
   ]
  },
  {
   "cell_type": "markdown",
   "metadata": {},
   "source": [
    "**Code to execute the above functions**"
   ]
  },
  {
   "cell_type": "code",
   "execution_count": 23,
   "metadata": {},
   "outputs": [
    {
     "name": "stdout",
     "output_type": "stream",
     "text": [
      "*******************************************\n",
      "KEYWORDS\n",
      "ML may (3)\n",
      "DE may (3)\n",
      "DL may (3)\n",
      "Python may (3)\n",
      "Stats programming (1)\n",
      "DE design (1)\n",
      "DE systems (1)\n",
      "Python systems (1)\n",
      "ML software (1)\n",
      "NLP software (1)\n",
      "Stats software (1)\n",
      "DE software (1)\n",
      "DL software (1)\n",
      "Python software (1)\n",
      "ML data (3)\n",
      "NLP data (3)\n",
      "Stats data (3)\n",
      "DL data (3)\n",
      "Python data (3)\n",
      "********************DF********************\n",
      "            Keywords_List\n",
      "0              ML may (3)\n",
      "1              DE may (3)\n",
      "2              DL may (3)\n",
      "3          Python may (3)\n",
      "4   Stats programming (1)\n",
      "5           DE design (1)\n",
      "6          DE systems (1)\n",
      "7      Python systems (1)\n",
      "8         ML software (1)\n",
      "9        NLP software (1)\n",
      "10     Stats software (1)\n",
      "11        DE software (1)\n",
      "12        DL software (1)\n",
      "13    Python software (1)\n",
      "14            ML data (3)\n",
      "15           NLP data (3)\n",
      "16         Stats data (3)\n",
      "17            DL data (3)\n",
      "18        Python data (3)\n",
      "['AmanSharma']\n",
      "******************DATAF**************\n",
      "   Candidate Name Subject       Keyword Count\n",
      "0      amansharma      ML          may      3\n",
      "1      amansharma      DE          may      3\n",
      "2      amansharma      DL          may      3\n",
      "3      amansharma  Python          may      3\n",
      "4      amansharma   Stats  programming      1\n",
      "5      amansharma      DE       design      1\n",
      "6      amansharma      DE      systems      1\n",
      "7      amansharma  Python      systems      1\n",
      "8      amansharma      ML     software      1\n",
      "9      amansharma     NLP     software      1\n",
      "10     amansharma   Stats     software      1\n",
      "11     amansharma      DE     software      1\n",
      "12     amansharma      DL     software      1\n",
      "13     amansharma  Python     software      1\n",
      "14     amansharma      ML         data      3\n",
      "15     amansharma     NLP         data      3\n",
      "16     amansharma   Stats         data      3\n",
      "17     amansharma      DL         data      3\n",
      "18     amansharma  Python         data      3\n",
      "*******************************************\n",
      "KEYWORDS\n",
      "ML may (1)\n",
      "DE may (1)\n",
      "DL may (1)\n",
      "Python may (1)\n",
      "ML learning (1)\n",
      "NLP learning (1)\n",
      "Stats learning (1)\n",
      "Python learning (1)\n",
      "ML data (1)\n",
      "NLP data (1)\n",
      "Stats data (1)\n",
      "DL data (1)\n",
      "Python data (1)\n",
      "DE systems (1)\n",
      "Python systems (1)\n",
      "Python java (1)\n",
      "ML using (4)\n",
      "NLP using (4)\n",
      "Stats using (4)\n",
      "DL using (4)\n",
      "Python using (4)\n",
      "********************DF********************\n",
      "          Keywords_List\n",
      "0            ML may (1)\n",
      "1            DE may (1)\n",
      "2            DL may (1)\n",
      "3        Python may (1)\n",
      "4       ML learning (1)\n",
      "5      NLP learning (1)\n",
      "6    Stats learning (1)\n",
      "7   Python learning (1)\n",
      "8           ML data (1)\n",
      "9          NLP data (1)\n",
      "10       Stats data (1)\n",
      "11          DL data (1)\n",
      "12      Python data (1)\n",
      "13       DE systems (1)\n",
      "14   Python systems (1)\n",
      "15      Python java (1)\n",
      "16         ML using (4)\n",
      "17        NLP using (4)\n",
      "18      Stats using (4)\n",
      "19         DL using (4)\n",
      "20     Python using (4)\n",
      "['Chandler']\n",
      "******************DATAF**************\n",
      "   Candidate Name Subject    Keyword Count\n",
      "0        chandler      ML       may      1\n",
      "1        chandler      DE       may      1\n",
      "2        chandler      DL       may      1\n",
      "3        chandler  Python       may      1\n",
      "4        chandler      ML  learning      1\n",
      "5        chandler     NLP  learning      1\n",
      "6        chandler   Stats  learning      1\n",
      "7        chandler  Python  learning      1\n",
      "8        chandler      ML      data      1\n",
      "9        chandler     NLP      data      1\n",
      "10       chandler   Stats      data      1\n",
      "11       chandler      DL      data      1\n",
      "12       chandler  Python      data      1\n",
      "13       chandler      DE   systems      1\n",
      "14       chandler  Python   systems      1\n",
      "15       chandler  Python      java      1\n",
      "16       chandler      ML     using      4\n",
      "17       chandler     NLP     using      4\n",
      "18       chandler   Stats     using      4\n",
      "19       chandler      DL     using      4\n",
      "20       chandler  Python     using      4\n",
      "*******************************************\n",
      "KEYWORDS\n",
      "ML may (4)\n",
      "DE may (4)\n",
      "DL may (4)\n",
      "Python may (4)\n",
      "DE design (1)\n",
      "DE systems (1)\n",
      "Python systems (1)\n",
      "ML software (1)\n",
      "NLP software (1)\n",
      "Stats software (1)\n",
      "DE software (1)\n",
      "DL software (1)\n",
      "Python software (1)\n",
      "ML data (4)\n",
      "NLP data (4)\n",
      "Stats data (4)\n",
      "DL data (4)\n",
      "Python data (4)\n",
      "ML learning (2)\n",
      "NLP learning (2)\n",
      "Stats learning (2)\n",
      "Python learning (2)\n",
      "Python java (1)\n",
      "ML using (3)\n",
      "NLP using (3)\n",
      "Stats using (3)\n",
      "DL using (3)\n",
      "Python using (3)\n",
      "********************DF********************\n",
      "          Keywords_List\n",
      "0            ML may (4)\n",
      "1            DE may (4)\n",
      "2            DL may (4)\n",
      "3        Python may (4)\n",
      "4         DE design (1)\n",
      "5        DE systems (1)\n",
      "6    Python systems (1)\n",
      "7       ML software (1)\n",
      "8      NLP software (1)\n",
      "9    Stats software (1)\n",
      "10      DE software (1)\n",
      "11      DL software (1)\n",
      "12  Python software (1)\n",
      "13          ML data (4)\n",
      "14         NLP data (4)\n",
      "15       Stats data (4)\n",
      "16          DL data (4)\n",
      "17      Python data (4)\n",
      "18      ML learning (2)\n",
      "19     NLP learning (2)\n",
      "20   Stats learning (2)\n",
      "21  Python learning (2)\n",
      "22      Python java (1)\n",
      "23         ML using (3)\n",
      "24        NLP using (3)\n",
      "25      Stats using (3)\n",
      "26         DL using (3)\n",
      "27     Python using (3)\n",
      "['MeghnaLohani']\n",
      "******************DATAF**************\n",
      "   Candidate Name Subject    Keyword Count\n",
      "0    meghnalohani      ML       may      4\n",
      "1    meghnalohani      DE       may      4\n",
      "2    meghnalohani      DL       may      4\n",
      "3    meghnalohani  Python       may      4\n",
      "4    meghnalohani      DE    design      1\n",
      "5    meghnalohani      DE   systems      1\n",
      "6    meghnalohani  Python   systems      1\n",
      "7    meghnalohani      ML  software      1\n",
      "8    meghnalohani     NLP  software      1\n",
      "9    meghnalohani   Stats  software      1\n",
      "10   meghnalohani      DE  software      1\n",
      "11   meghnalohani      DL  software      1\n",
      "12   meghnalohani  Python  software      1\n",
      "13   meghnalohani      ML      data      4\n",
      "14   meghnalohani     NLP      data      4\n",
      "15   meghnalohani   Stats      data      4\n",
      "16   meghnalohani      DL      data      4\n",
      "17   meghnalohani  Python      data      4\n",
      "18   meghnalohani      ML  learning      2\n",
      "19   meghnalohani     NLP  learning      2\n",
      "20   meghnalohani   Stats  learning      2\n",
      "21   meghnalohani  Python  learning      2\n",
      "22   meghnalohani  Python      java      1\n",
      "23   meghnalohani      ML     using      3\n",
      "24   meghnalohani     NLP     using      3\n",
      "25   meghnalohani   Stats     using      3\n",
      "26   meghnalohani      DL     using      3\n",
      "27   meghnalohani  Python     using      3\n",
      "*******************************************\n",
      "KEYWORDS\n",
      "ML may (1)\n",
      "DE may (1)\n",
      "DL may (1)\n",
      "Python may (1)\n",
      "ML learning (2)\n",
      "NLP learning (2)\n",
      "Stats learning (2)\n",
      "Python learning (2)\n",
      "ML data (1)\n",
      "NLP data (1)\n",
      "Stats data (1)\n",
      "DL data (1)\n",
      "Python data (1)\n",
      "DE systems (1)\n",
      "Python systems (1)\n",
      "Python java (1)\n",
      "ML using (5)\n",
      "NLP using (5)\n",
      "Stats using (5)\n",
      "DL using (5)\n",
      "Python using (5)\n",
      "ML deep (1)\n",
      "DE deep (1)\n",
      "********************DF********************\n",
      "          Keywords_List\n",
      "0            ML may (1)\n",
      "1            DE may (1)\n",
      "2            DL may (1)\n",
      "3        Python may (1)\n",
      "4       ML learning (2)\n",
      "5      NLP learning (2)\n",
      "6    Stats learning (2)\n",
      "7   Python learning (2)\n",
      "8           ML data (1)\n",
      "9          NLP data (1)\n",
      "10       Stats data (1)\n",
      "11          DL data (1)\n",
      "12      Python data (1)\n",
      "13       DE systems (1)\n",
      "14   Python systems (1)\n",
      "15      Python java (1)\n",
      "16         ML using (5)\n",
      "17        NLP using (5)\n",
      "18      Stats using (5)\n",
      "19         DL using (5)\n",
      "20     Python using (5)\n",
      "21          ML deep (1)\n",
      "22          DE deep (1)\n",
      "['Phoebe Buffay']\n",
      "******************DATAF**************\n",
      "   Candidate Name Subject    Keyword Count\n",
      "0   phoebe buffay      ML       may      1\n",
      "1   phoebe buffay      DE       may      1\n",
      "2   phoebe buffay      DL       may      1\n",
      "3   phoebe buffay  Python       may      1\n",
      "4   phoebe buffay      ML  learning      2\n",
      "5   phoebe buffay     NLP  learning      2\n",
      "6   phoebe buffay   Stats  learning      2\n",
      "7   phoebe buffay  Python  learning      2\n",
      "8   phoebe buffay      ML      data      1\n",
      "9   phoebe buffay     NLP      data      1\n",
      "10  phoebe buffay   Stats      data      1\n",
      "11  phoebe buffay      DL      data      1\n",
      "12  phoebe buffay  Python      data      1\n",
      "13  phoebe buffay      DE   systems      1\n",
      "14  phoebe buffay  Python   systems      1\n",
      "15  phoebe buffay  Python      java      1\n",
      "16  phoebe buffay      ML     using      5\n",
      "17  phoebe buffay     NLP     using      5\n",
      "18  phoebe buffay   Stats     using      5\n",
      "19  phoebe buffay      DL     using      5\n",
      "20  phoebe buffay  Python     using      5\n",
      "21  phoebe buffay      ML      deep      1\n",
      "22  phoebe buffay      DE      deep      1\n"
     ]
    },
    {
     "name": "stdout",
     "output_type": "stream",
     "text": [
      "*******************************************\n",
      "KEYWORDS\n",
      "ML using (2)\n",
      "NLP using (2)\n",
      "Stats using (2)\n",
      "DL using (2)\n",
      "Python using (2)\n",
      "ML learning (1)\n",
      "NLP learning (1)\n",
      "Stats learning (1)\n",
      "Python learning (1)\n",
      "Stats programming (2)\n",
      "Python java (2)\n",
      "DE systems (1)\n",
      "Python systems (1)\n",
      "********************DF********************\n",
      "            Keywords_List\n",
      "0            ML using (2)\n",
      "1           NLP using (2)\n",
      "2         Stats using (2)\n",
      "3            DL using (2)\n",
      "4        Python using (2)\n",
      "5         ML learning (1)\n",
      "6        NLP learning (1)\n",
      "7      Stats learning (1)\n",
      "8     Python learning (1)\n",
      "9   Stats programming (2)\n",
      "10        Python java (2)\n",
      "11         DE systems (1)\n",
      "12     Python systems (1)\n",
      "['poorna']\n",
      "******************DATAF**************\n",
      "   Candidate Name Subject       Keyword Count\n",
      "0          poorna      ML        using      2\n",
      "1          poorna     NLP        using      2\n",
      "2          poorna   Stats        using      2\n",
      "3          poorna      DL        using      2\n",
      "4          poorna  Python        using      2\n",
      "5          poorna      ML     learning      1\n",
      "6          poorna     NLP     learning      1\n",
      "7          poorna   Stats     learning      1\n",
      "8          poorna  Python     learning      1\n",
      "9          poorna   Stats  programming      2\n",
      "10         poorna  Python         java      2\n",
      "11         poorna      DE      systems      1\n",
      "12         poorna  Python      systems      1\n",
      "*******************************************\n",
      "KEYWORDS\n",
      "ML using (2)\n",
      "NLP using (2)\n",
      "Stats using (2)\n",
      "DL using (2)\n",
      "Python using (2)\n",
      "NLP development (1)\n",
      "DL development (1)\n",
      "Python development (1)\n",
      "ML learning (1)\n",
      "NLP learning (1)\n",
      "Stats learning (1)\n",
      "Python learning (1)\n",
      "Stats programming (2)\n",
      "Python java (2)\n",
      "DE systems (1)\n",
      "Python systems (1)\n",
      "********************DF********************\n",
      "             Keywords_List\n",
      "0             ML using (2)\n",
      "1            NLP using (2)\n",
      "2          Stats using (2)\n",
      "3             DL using (2)\n",
      "4         Python using (2)\n",
      "5      NLP development (1)\n",
      "6       DL development (1)\n",
      "7   Python development (1)\n",
      "8          ML learning (1)\n",
      "9         NLP learning (1)\n",
      "10      Stats learning (1)\n",
      "11     Python learning (1)\n",
      "12   Stats programming (2)\n",
      "13         Python java (2)\n",
      "14          DE systems (1)\n",
      "15      Python systems (1)\n",
      "['prasanna']\n",
      "******************DATAF**************\n",
      "   Candidate Name Subject       Keyword Count\n",
      "0        prasanna      ML        using      2\n",
      "1        prasanna     NLP        using      2\n",
      "2        prasanna   Stats        using      2\n",
      "3        prasanna      DL        using      2\n",
      "4        prasanna  Python        using      2\n",
      "5        prasanna     NLP  development      1\n",
      "6        prasanna      DL  development      1\n",
      "7        prasanna  Python  development      1\n",
      "8        prasanna      ML     learning      1\n",
      "9        prasanna     NLP     learning      1\n",
      "10       prasanna   Stats     learning      1\n",
      "11       prasanna  Python     learning      1\n",
      "12       prasanna   Stats  programming      2\n",
      "13       prasanna  Python         java      2\n",
      "14       prasanna      DE      systems      1\n",
      "15       prasanna  Python      systems      1\n",
      "*******************************************\n",
      "KEYWORDS\n",
      "ML may (1)\n",
      "DE may (1)\n",
      "DL may (1)\n",
      "Python may (1)\n",
      "ML learning (1)\n",
      "NLP learning (1)\n",
      "Stats learning (1)\n",
      "Python learning (1)\n",
      "ML data (2)\n",
      "NLP data (2)\n",
      "Stats data (2)\n",
      "DL data (2)\n",
      "Python data (2)\n",
      "DE systems (1)\n",
      "Python systems (1)\n",
      "Python java (1)\n",
      "ML using (4)\n",
      "NLP using (4)\n",
      "Stats using (4)\n",
      "DL using (4)\n",
      "Python using (4)\n",
      "********************DF********************\n",
      "          Keywords_List\n",
      "0            ML may (1)\n",
      "1            DE may (1)\n",
      "2            DL may (1)\n",
      "3        Python may (1)\n",
      "4       ML learning (1)\n",
      "5      NLP learning (1)\n",
      "6    Stats learning (1)\n",
      "7   Python learning (1)\n",
      "8           ML data (2)\n",
      "9          NLP data (2)\n",
      "10       Stats data (2)\n",
      "11          DL data (2)\n",
      "12      Python data (2)\n",
      "13       DE systems (1)\n",
      "14   Python systems (1)\n",
      "15      Python java (1)\n",
      "16         ML using (4)\n",
      "17        NLP using (4)\n",
      "18      Stats using (4)\n",
      "19         DL using (4)\n",
      "20     Python using (4)\n",
      "['VAISHALI BIJOY']\n",
      "******************DATAF**************\n",
      "    Candidate Name Subject    Keyword Count\n",
      "0   vaishali bijoy      ML       may      1\n",
      "1   vaishali bijoy      DE       may      1\n",
      "2   vaishali bijoy      DL       may      1\n",
      "3   vaishali bijoy  Python       may      1\n",
      "4   vaishali bijoy      ML  learning      1\n",
      "5   vaishali bijoy     NLP  learning      1\n",
      "6   vaishali bijoy   Stats  learning      1\n",
      "7   vaishali bijoy  Python  learning      1\n",
      "8   vaishali bijoy      ML      data      2\n",
      "9   vaishali bijoy     NLP      data      2\n",
      "10  vaishali bijoy   Stats      data      2\n",
      "11  vaishali bijoy      DL      data      2\n",
      "12  vaishali bijoy  Python      data      2\n",
      "13  vaishali bijoy      DE   systems      1\n",
      "14  vaishali bijoy  Python   systems      1\n",
      "15  vaishali bijoy  Python      java      1\n",
      "16  vaishali bijoy      ML     using      4\n",
      "17  vaishali bijoy     NLP     using      4\n",
      "18  vaishali bijoy   Stats     using      4\n",
      "19  vaishali bijoy      DL     using      4\n",
      "20  vaishali bijoy  Python     using      4\n",
      "*******************************************\n",
      "KEYWORDS\n",
      "ML using (1)\n",
      "NLP using (1)\n",
      "Stats using (1)\n",
      "DL using (1)\n",
      "Python using (1)\n",
      "ML data (2)\n",
      "NLP data (2)\n",
      "Stats data (2)\n",
      "DL data (2)\n",
      "Python data (2)\n",
      "NLP development (2)\n",
      "DL development (2)\n",
      "Python development (2)\n",
      "Stats training (2)\n",
      "********************DF********************\n",
      "             Keywords_List\n",
      "0             ML using (1)\n",
      "1            NLP using (1)\n",
      "2          Stats using (1)\n",
      "3             DL using (1)\n",
      "4         Python using (1)\n",
      "5              ML data (2)\n",
      "6             NLP data (2)\n",
      "7           Stats data (2)\n",
      "8              DL data (2)\n",
      "9          Python data (2)\n",
      "10     NLP development (2)\n",
      "11      DL development (2)\n",
      "12  Python development (2)\n",
      "13      Stats training (2)\n",
      "['Yamini']\n",
      "******************DATAF**************\n",
      "   Candidate Name Subject       Keyword Count\n",
      "0          yamini      ML        using      1\n",
      "1          yamini     NLP        using      1\n",
      "2          yamini   Stats        using      1\n",
      "3          yamini      DL        using      1\n",
      "4          yamini  Python        using      1\n",
      "5          yamini      ML         data      2\n",
      "6          yamini     NLP         data      2\n",
      "7          yamini   Stats         data      2\n",
      "8          yamini      DL         data      2\n",
      "9          yamini  Python         data      2\n",
      "10         yamini     NLP  development      2\n",
      "11         yamini      DL  development      2\n",
      "12         yamini  Python  development      2\n",
      "13         yamini   Stats     training      2\n"
     ]
    }
   ],
   "source": [
    "#Code to execute the above functions \n",
    "final_db=pd.DataFrame()\n",
    "i=0\n",
    "while i < len(onlyfiles):\n",
    "    file=onlyfiles[i]\n",
    "    dat=create_profile(file)\n",
    "\n",
    "    final_db=final_db.append(dat)\n",
    "    i+=1\n",
    "    #print(final_db)"
   ]
  },
  {
   "cell_type": "markdown",
   "metadata": {},
   "source": [
    "**Counting words under each category and building the candidate profile**"
   ]
  },
  {
   "cell_type": "code",
   "execution_count": 24,
   "metadata": {},
   "outputs": [
    {
     "data": {
      "text/html": [
       "<div>\n",
       "<style scoped>\n",
       "    .dataframe tbody tr th:only-of-type {\n",
       "        vertical-align: middle;\n",
       "    }\n",
       "\n",
       "    .dataframe tbody tr th {\n",
       "        vertical-align: top;\n",
       "    }\n",
       "\n",
       "    .dataframe thead th {\n",
       "        text-align: right;\n",
       "    }\n",
       "</style>\n",
       "<table border=\"1\" class=\"dataframe\">\n",
       "  <thead>\n",
       "    <tr style=\"text-align: right;\">\n",
       "      <th></th>\n",
       "      <th>Candidate Name</th>\n",
       "      <th>DE</th>\n",
       "      <th>DL</th>\n",
       "      <th>ML</th>\n",
       "      <th>NLP</th>\n",
       "      <th>Python</th>\n",
       "      <th>Stats</th>\n",
       "    </tr>\n",
       "  </thead>\n",
       "  <tbody>\n",
       "    <tr>\n",
       "      <td>0</td>\n",
       "      <td>amansharma</td>\n",
       "      <td>4.0</td>\n",
       "      <td>3.0</td>\n",
       "      <td>3.0</td>\n",
       "      <td>2.0</td>\n",
       "      <td>4.0</td>\n",
       "      <td>3.0</td>\n",
       "    </tr>\n",
       "    <tr>\n",
       "      <td>1</td>\n",
       "      <td>chandler</td>\n",
       "      <td>2.0</td>\n",
       "      <td>3.0</td>\n",
       "      <td>4.0</td>\n",
       "      <td>3.0</td>\n",
       "      <td>6.0</td>\n",
       "      <td>3.0</td>\n",
       "    </tr>\n",
       "    <tr>\n",
       "      <td>2</td>\n",
       "      <td>meghnalohani</td>\n",
       "      <td>4.0</td>\n",
       "      <td>4.0</td>\n",
       "      <td>5.0</td>\n",
       "      <td>4.0</td>\n",
       "      <td>7.0</td>\n",
       "      <td>4.0</td>\n",
       "    </tr>\n",
       "    <tr>\n",
       "      <td>3</td>\n",
       "      <td>phoebe buffay</td>\n",
       "      <td>3.0</td>\n",
       "      <td>3.0</td>\n",
       "      <td>5.0</td>\n",
       "      <td>3.0</td>\n",
       "      <td>6.0</td>\n",
       "      <td>3.0</td>\n",
       "    </tr>\n",
       "    <tr>\n",
       "      <td>4</td>\n",
       "      <td>poorna</td>\n",
       "      <td>1.0</td>\n",
       "      <td>1.0</td>\n",
       "      <td>2.0</td>\n",
       "      <td>2.0</td>\n",
       "      <td>4.0</td>\n",
       "      <td>3.0</td>\n",
       "    </tr>\n",
       "    <tr>\n",
       "      <td>5</td>\n",
       "      <td>prasanna</td>\n",
       "      <td>1.0</td>\n",
       "      <td>2.0</td>\n",
       "      <td>2.0</td>\n",
       "      <td>3.0</td>\n",
       "      <td>5.0</td>\n",
       "      <td>3.0</td>\n",
       "    </tr>\n",
       "    <tr>\n",
       "      <td>6</td>\n",
       "      <td>vaishali bijoy</td>\n",
       "      <td>2.0</td>\n",
       "      <td>3.0</td>\n",
       "      <td>4.0</td>\n",
       "      <td>3.0</td>\n",
       "      <td>6.0</td>\n",
       "      <td>3.0</td>\n",
       "    </tr>\n",
       "    <tr>\n",
       "      <td>7</td>\n",
       "      <td>yamini</td>\n",
       "      <td>0.0</td>\n",
       "      <td>3.0</td>\n",
       "      <td>2.0</td>\n",
       "      <td>3.0</td>\n",
       "      <td>3.0</td>\n",
       "      <td>3.0</td>\n",
       "    </tr>\n",
       "  </tbody>\n",
       "</table>\n",
       "</div>"
      ],
      "text/plain": [
       "   Candidate Name   DE   DL   ML  NLP  Python  Stats\n",
       "0      amansharma  4.0  3.0  3.0  2.0     4.0    3.0\n",
       "1        chandler  2.0  3.0  4.0  3.0     6.0    3.0\n",
       "2    meghnalohani  4.0  4.0  5.0  4.0     7.0    4.0\n",
       "3   phoebe buffay  3.0  3.0  5.0  3.0     6.0    3.0\n",
       "4          poorna  1.0  1.0  2.0  2.0     4.0    3.0\n",
       "5        prasanna  1.0  2.0  2.0  3.0     5.0    3.0\n",
       "6  vaishali bijoy  2.0  3.0  4.0  3.0     6.0    3.0\n",
       "7          yamini  0.0  3.0  2.0  3.0     3.0    3.0"
      ]
     },
     "execution_count": 24,
     "metadata": {},
     "output_type": "execute_result"
    }
   ],
   "source": [
    "#Code to count words under each category and visualize it through MAtplotlib\n",
    "final_db2 = final_db['Keyword'].groupby([final_db['Candidate Name'], final_db['Subject']]).count().unstack()\n",
    "final_db2.reset_index(inplace = True)\n",
    "final_db2.fillna(0,inplace=True)\n",
    "candidate_data = final_db2.iloc[:,1:]\n",
    "candidate_data.index = final_db2['Candidate Name']\n",
    "#the candidate profile in a csv format\n",
    "cand=candidate_data.to_csv('candidate_profile.csv')\n",
    "cand_profile=pd.read_csv('candidate_profile.csv')\n",
    "cand_profile"
   ]
  },
  {
   "cell_type": "markdown",
   "metadata": {},
   "source": [
    "**Visualizing by matplotlib**"
   ]
  },
  {
   "cell_type": "code",
   "execution_count": 25,
   "metadata": {},
   "outputs": [
    {
     "data": {
      "image/png": "[encoded data removed]",
      "text/plain": [
       "<Figure size 1800x504 with 1 Axes>"
      ]
     },
     "metadata": {
      "needs_background": "light"
     },
     "output_type": "display_data"
    }
   ],
   "source": [
    "import matplotlib.pyplot as plt\n",
    "%matplotlib inline\n",
    "plt.rcParams.update({'font.size': 20})\n",
    "ax = candidate_data.plot.barh(title=\"Keywords in Resume according to category\", legend=False, figsize=(25,7), stacked=True)\n",
    "skills = []\n",
    "for j in candidate_data.columns:\n",
    "    for i in candidate_data.index:\n",
    "        skill = str(j)+\": \" + str(candidate_data.loc[i][j])\n",
    "        skills.append(skill)\n",
    "patches = ax.patches\n",
    "for skill, rect in zip(skills, patches):\n",
    "    width = rect.get_width()\n",
    "    if width > 0:\n",
    "        x = rect.get_x()\n",
    "        y = rect.get_y()\n",
    "        height = rect.get_height()\n",
    "        ax.text(x + width/2., y + height/2., skill, ha='center', va='center')\n",
    "plt.show()"
   ]
  },
  {
   "cell_type": "markdown",
   "metadata": {},
   "source": [
    "# References"
   ]
  },
  {
   "cell_type": "markdown",
   "metadata": {},
   "source": [
    "1. https://machinelearningmastery.com/develop-word-embeddings-python-gensim/\n",
    "2. https://www.shanelynn.ie/word-embeddings-in-python-with-spacy-and-gensim/\n",
    "3. https://app.sketchengine.eu/\n"
   ]
  }
 ],
 "metadata": {
  "kernelspec": {
   "display_name": "Python 3",
   "language": "python",
   "name": "python3"
  },
  "language_info": {
   "codemirror_mode": {
    "name": "ipython",
    "version": 3
   },
   "file_extension": ".py",
   "mimetype": "text/x-python",
   "name": "python",
   "nbconvert_exporter": "python",
   "pygments_lexer": "ipython3",
   "version": "3.7.4"
  }
 },
 "nbformat": 4,
 "nbformat_minor": 2
}
